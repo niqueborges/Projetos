{
 "cells": [
  {
   "cell_type": "markdown",
   "id": "7bec0308",
   "metadata": {},
   "source": [
    "# Projeto 1 - Relatório de fechamento de mercado por e-mail.\n",
    "\n",
    "\n",
    "### Desafio:\n",
    "\n",
    "* Construir um e-mail que chegue na caixa de entrada todos os dias com informações de fechamento do Ibovespa e dólar.\n",
    "\n",
    "### Passo a passo:\n",
    "\n",
    "   **Passo 1** - Importar os módulos e bibliotecas.\n",
    "   \n",
    "   **Passo 2** - Pegar dados do Ibovespa e do Dólar no Yahoo Finance.\n",
    "   \n",
    "   **Passo 3** - Manipular os dados para deixá-los nos formatos necessários para fazer as contas.\n",
    "   \n",
    "   **Passo 4** - Calcular o retorno diário, mensal e anual.\n",
    "   \n",
    "   **Passo 5** - Localizar, dentro das tabelas de retornos, os valores de fechamento de mercado que irão pro texto  anexado no e-mail.\n",
    "   \n",
    "   **Passo 6** - Fazer os gráficos dos ativos.\n",
    "   \n",
    "   **Passo 7** - Enviar o e-mail.\n"
   ]
  },
  {
   "cell_type": "code",
   "execution_count": null,
   "id": "11e70f35",
   "metadata": {},
   "outputs": [],
   "source": [
    "!pip install python-dotenv"
   ]
  },
  {
   "cell_type": "markdown",
   "id": "b3062fc8",
   "metadata": {},
   "source": [
    "# Passo 1: Importando os módulos necessários"
   ]
  },
  {
   "cell_type": "code",
   "execution_count": null,
   "id": "024f9e7d",
   "metadata": {
    "scrolled": true
   },
   "outputs": [],
   "source": [
    "import pandas as pd\n",
    "import datetime\n",
    "import yfinance as yf\n",
    "from matplotlib import pyplot as plt\n",
    "import mplcyberpunk\n",
    "import smtplib\n",
    "from email.message import EmailMessage"
   ]
  },
  {
   "cell_type": "markdown",
   "id": "b752fa2c",
   "metadata": {},
   "source": [
    "# Passo 2: Pegar dados no Yahoo Finance"
   ]
  },
  {
   "cell_type": "code",
   "execution_count": null,
   "id": "a25af891",
   "metadata": {
    "scrolled": false
   },
   "outputs": [],
   "source": [
    "ativos = [\"^BVSP\", \"BRL=X\"]\n",
    "\n",
    "hoje = datetime.datetime.now()\n",
    "um_ano_atras = hoje - datetime.timedelta(days = 365)\n",
    "\n",
    "dados_mercado = yf.download(ativos, um_ano_atras, hoje)\n",
    "\n",
    "display(dados_mercado)"
   ]
  },
  {
   "cell_type": "markdown",
   "id": "a43b1c2a",
   "metadata": {},
   "source": [
    "# Passo 3.1: Manipulando os dados - seleção e exclusão de dados "
   ]
  },
  {
   "cell_type": "code",
   "execution_count": null,
   "id": "4959c4e4",
   "metadata": {
    "scrolled": true
   },
   "outputs": [],
   "source": [
    "dados_fechamento = dados_mercado['Adj Close']\n",
    "dados_fechamento.columns = ['dolar', 'ibovespa']\n",
    "dados_fechamento = dados_fechamento.dropna()\n",
    "\n",
    "dados_fechamento"
   ]
  },
  {
   "cell_type": "markdown",
   "id": "ada33878",
   "metadata": {},
   "source": [
    "# Passo 3.2: Manipulando os dados - Criando tabelas com outros timeframes. "
   ]
  },
  {
   "cell_type": "code",
   "execution_count": null,
   "id": "484d488f",
   "metadata": {
    "scrolled": false
   },
   "outputs": [],
   "source": [
    "dados_fechamento_mensal = dados_fechamento.resample(\"M\").last()\n",
    "dados_fechamento_anual = dados_fechamento.resample(\"Y\").last()\n",
    "\n",
    "dados_fechamento_anual"
   ]
  },
  {
   "cell_type": "markdown",
   "id": "8cda978d",
   "metadata": {},
   "source": [
    "# Passo 4 - Calcular fechamento do dia, retorno no ano e retorno no mês dos ativos. "
   ]
  },
  {
   "cell_type": "code",
   "execution_count": null,
   "id": "41672272",
   "metadata": {
    "scrolled": false
   },
   "outputs": [],
   "source": [
    "retorno_no_ano = dados_fechamento_anual.pct_change().dropna()\n",
    "retorno_no_mes = dados_fechamento_mensal.pct_change().dropna()\n",
    "retorno_no_dia = dados_fechamento.pct_change().dropna()\n",
    "\n",
    "retorno_no_dia"
   ]
  },
  {
   "cell_type": "markdown",
   "id": "0d0bcc0e",
   "metadata": {},
   "source": [
    "# Passo 5 - Localizar o fechamento do dia anterior, retorno no mês e retorno no ano.\n",
    "\n",
    "* Loc -> referenciar elementos a partir do nome\n",
    "* Iloc -> selecionar elementos como uma matriz"
   ]
  },
  {
   "cell_type": "code",
   "execution_count": null,
   "id": "c6267439",
   "metadata": {},
   "outputs": [],
   "source": [
    "retorno_dia_dolar = retorno_no_dia.iloc[-1, 0]\n",
    "retorno_dia_ibovespa = retorno_no_dia.iloc[-1, 1]\n",
    "\n",
    "retorno_mes_dolar = retorno_no_mes.iloc[-1, 0]\n",
    "retorno_mes_ibovespa = retorno_no_mes.iloc[-1, 1]\n",
    "\n",
    "retorno_ano_dolar = retorno_no_ano.iloc[-1, 0]\n",
    "retorno_ano_ibovespa = retorno_no_ano.iloc[-1, 1]\n",
    "\n",
    "retorno_ano_dolar"
   ]
  },
  {
   "cell_type": "code",
   "execution_count": null,
   "id": "fc4a9725",
   "metadata": {},
   "outputs": [],
   "source": [
    "retorno_dia_dolar = round(retorno_dia_dolar * 100, 2)\n",
    "retorno_dia_ibovespa = round(retorno_dia_ibovespa * 100, 2)\n",
    "\n",
    "retorno_mes_dolar = round(retorno_mes_dolar * 100, 2)\n",
    "retorno_mes_ibovespa = round(retorno_mes_ibovespa * 100, 2)\n",
    "\n",
    "retorno_ano_dolar = round(retorno_ano_dolar * 100, 2)\n",
    "retorno_ano_ibovespa = round(retorno_ano_ibovespa * 100, 2)"
   ]
  },
  {
   "cell_type": "markdown",
   "id": "9b23491f",
   "metadata": {},
   "source": [
    "# Passo 6 - Fazer os gráficos da performance do último dos ativos"
   ]
  },
  {
   "cell_type": "code",
   "execution_count": null,
   "id": "8f72b381",
   "metadata": {},
   "outputs": [],
   "source": [
    "plt.style.use(\"cyberpunk\")\n",
    "\n",
    "dados_fechamento.plot(y = 'ibovespa', use_index = True, legend = False)\n",
    "\n",
    "plt.title(\"Ibovespa\")\n",
    "\n",
    "plt.savefig('ibovespa.png', dpi = 300)\n",
    "\n",
    "plt.show()"
   ]
  },
  {
   "cell_type": "code",
   "execution_count": null,
   "id": "6b3c44c3",
   "metadata": {},
   "outputs": [],
   "source": [
    "plt.style.use(\"cyberpunk\")\n",
    "\n",
    "dados_fechamento.plot(y = 'dolar', use_index = True, legend = False)\n",
    "\n",
    "plt.title(\"Dolar\")\n",
    "\n",
    "plt.savefig('dolar.png', dpi = 300)\n",
    "\n",
    "plt.show()"
   ]
  },
  {
   "cell_type": "markdown",
   "id": "e3f516b6",
   "metadata": {},
   "source": [
    "# Passo 7: Enviar e-mail\n",
    "\n",
    "https://myaccount.google.com/apppasswords"
   ]
  },
  {
   "cell_type": "code",
   "execution_count": null,
   "id": "bb1d8729",
   "metadata": {},
   "outputs": [],
   "source": [
    "import os\n",
    "from dotenv import load_dotenv"
   ]
  },
  {
   "cell_type": "code",
   "execution_count": null,
   "id": "5d75c7ae",
   "metadata": {
    "scrolled": true
   },
   "outputs": [],
   "source": [
    "load_dotenv()"
   ]
  },
  {
   "cell_type": "code",
   "execution_count": null,
   "id": "c0676126",
   "metadata": {},
   "outputs": [],
   "source": [
    "senha = os.environ.get(\"senha_email\")\n",
    "email = 'seuemail@gmail.com'"
   ]
  },
  {
   "cell_type": "code",
   "execution_count": null,
   "id": "d843834d",
   "metadata": {},
   "outputs": [],
   "source": [
    "retorno_ano_ibovespa"
   ]
  },
  {
   "cell_type": "code",
   "execution_count": null,
   "id": "09720b00",
   "metadata": {},
   "outputs": [],
   "source": [
    "msg = EmailMessage()\n",
    "msg['Subject'] = \"Enviando e-mail com o Python\"\n",
    "msg['From'] = 'seuemail@gmail.com'\n",
    "msg['To'] = 'brenno@varos.com.br'\n",
    "\n",
    "msg.set_content(f'''Prezado diretor, segue o relatório diário:\n",
    "\n",
    "Bolsa:\n",
    "\n",
    "No ano o Ibovespa está tendo uma rentabilidade de {retorno_ano_ibovespa}%, \n",
    "enquanto no mês a rentabilidade é de {retorno_mes_ibovespa}%.\n",
    "\n",
    "No último dia útil, o fechamento do Ibovespa foi de {retorno_dia_ibovespa}%.\n",
    "\n",
    "Dólar:\n",
    "\n",
    "No ano o Dólar está tendo uma rentabilidade de {retorno_ano_dolar}%, \n",
    "enquanto no mês a rentabilidade é de {retorno_mes_dolar}%.\n",
    "\n",
    "No último dia útil, o fechamento do Dólar foi de {retorno_dia_dolar}%.\n",
    "\n",
    "\n",
    "Abs,\n",
    "\n",
    "O melhor estagiário do mundo\n",
    "\n",
    "''')"
   ]
  },
  {
   "cell_type": "code",
   "execution_count": null,
   "id": "46ff0d22",
   "metadata": {},
   "outputs": [],
   "source": [
    "with open('dolar.png', 'rb') as content_file:\n",
    "    content = content_file.read()\n",
    "    msg.add_attachment(content, maintype='application', subtype='png', filename='dolar.png')\n",
    "    \n",
    "    \n",
    "with open('ibovespa.png', 'rb') as content_file:\n",
    "    content = content_file.read()\n",
    "    msg.add_attachment(content, maintype='application', subtype='png', filename='ibovespa.png')"
   ]
  },
  {
   "cell_type": "code",
   "execution_count": 99,
   "id": "f265b4dc",
   "metadata": {},
   "outputs": [],
   "source": [
    "with smtplib.SMTP_SSL('smtp.gmail.com', 465) as smtp:\n",
    "    \n",
    "    smtp.login(email, senha)\n",
    "    smtp.send_message(msg)"
   ]
  },
  {
   "cell_type": "code",
   "execution_count": null,
   "id": "47bc9fb1",
   "metadata": {},
   "outputs": [],
   "source": [
    "\n"
   ]
  },
  {
   "cell_type": "code",
   "execution_count": null,
   "id": "0178d9ed",
   "metadata": {},
   "outputs": [],
   "source": []
  },
  {
   "cell_type": "code",
   "execution_count": null,
   "id": "1a559197",
   "metadata": {},
   "outputs": [],
   "source": []
  },
  {
   "cell_type": "code",
   "execution_count": null,
   "id": "ddf92ad4",
   "metadata": {},
   "outputs": [],
   "source": []
  },
  {
   "cell_type": "code",
   "execution_count": null,
   "id": "bb15e5f4",
   "metadata": {},
   "outputs": [],
   "source": []
  },
  {
   "cell_type": "code",
   "execution_count": null,
   "id": "8a3fffbd",
   "metadata": {},
   "outputs": [],
   "source": []
  },
  {
   "cell_type": "code",
   "execution_count": null,
   "id": "347a740d",
   "metadata": {},
   "outputs": [],
   "source": []
  },
  {
   "cell_type": "code",
   "execution_count": null,
   "id": "fc2fec41",
   "metadata": {},
   "outputs": [],
   "source": []
  },
  {
   "cell_type": "code",
   "execution_count": null,
   "id": "614daa23",
   "metadata": {},
   "outputs": [],
   "source": []
  },
  {
   "cell_type": "code",
   "execution_count": null,
   "id": "cddd151c",
   "metadata": {},
   "outputs": [],
   "source": []
  },
  {
   "cell_type": "code",
   "execution_count": null,
   "id": "4bf21526",
   "metadata": {},
   "outputs": [],
   "source": []
  },
  {
   "cell_type": "code",
   "execution_count": null,
   "id": "09b95897",
   "metadata": {},
   "outputs": [],
   "source": []
  },
  {
   "cell_type": "code",
   "execution_count": null,
   "id": "1e799c02",
   "metadata": {},
   "outputs": [],
   "source": []
  },
  {
   "cell_type": "code",
   "execution_count": null,
   "id": "d8cbc417",
   "metadata": {},
   "outputs": [],
   "source": []
  },
  {
   "cell_type": "code",
   "execution_count": null,
   "id": "645a7194",
   "metadata": {},
   "outputs": [],
   "source": []
  }
 ],
 "metadata": {
  "kernelspec": {
   "display_name": "Python 3 (ipykernel)",
   "language": "python",
   "name": "python3"
  },
  "language_info": {
   "codemirror_mode": {
    "name": "ipython",
    "version": 3
   },
   "file_extension": ".py",
   "mimetype": "text/x-python",
   "name": "python",
   "nbconvert_exporter": "python",
   "pygments_lexer": "ipython3",
   "version": "3.9.13"
  }
 },
 "nbformat": 4,
 "nbformat_minor": 5
}
