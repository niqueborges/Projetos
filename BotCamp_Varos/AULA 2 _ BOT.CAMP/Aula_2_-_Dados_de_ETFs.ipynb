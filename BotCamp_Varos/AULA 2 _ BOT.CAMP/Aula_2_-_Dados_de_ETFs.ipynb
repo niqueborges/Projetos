{
 "cells": [
  {
   "cell_type": "markdown",
   "id": "9a19c985",
   "metadata": {},
   "source": [
    "# Projeto 2 - Como pegar dados de um site com Python? - Pegando dados de ETFs do mundo inteiro.\n",
    "\n",
    "\n",
    "### Desafio:\n",
    "\n",
    "* Construir um código que vá no site etf.com e busque dados de todos os etfs do mercado americano e, consequentemente, do mundo. Rentabilidades, patrimônio, gestora, taxa...   \n",
    "* Lembrar de sempre trazer outros tipos de cenários onde a pessoa precisa pegar dados de sites etc.\n",
    "\n",
    "\n",
    "### Passo a passo:\n",
    "\n",
    "   **Passo 1** - Definir um navegador que você irá utilizar para navegar com o Python.\n",
    "\n",
    "   **Passo 2** - Importar os módulos e bibliotecas.\n",
    "   \n",
    "   **Passo 3** - Entender como funcionam requisições na internet.\n",
    "   \n",
    "   **Passo 4** - Conhecer e mapear o processo de coleta de dados no site do ETF.com. \n",
    "   \n",
    "   **Passo 5** - Achar todos os elementos necessários dentro do HTML do site.\n",
    "   \n",
    "   **Passo 6** - Ler a tabela de dados.\n",
    "   \n",
    "   **Passo 7** - Construir a tabela final."
   ]
  },
  {
   "cell_type": "markdown",
   "id": "4caa47bc",
   "metadata": {},
   "source": [
    "# Passo 1: Escolher o navegador.\n",
    "\n",
    "No nosso caso, utilizaremos o Google Chrome. "
   ]
  },
  {
   "cell_type": "markdown",
   "id": "7ca16e9c",
   "metadata": {},
   "source": [
    "# Passo 2: Importar as bibliotecas."
   ]
  },
  {
   "cell_type": "code",
   "execution_count": null,
   "id": "bc940c73",
   "metadata": {},
   "outputs": [],
   "source": [
    "from selenium import webdriver\n",
    "from selenium.webdriver.chrome.service import Service\n",
    "from webdriver_manager.chrome import ChromeDriverManager\n",
    "import time\n",
    "import pandas as pd"
   ]
  },
  {
   "cell_type": "markdown",
   "id": "f4e8e17f",
   "metadata": {},
   "source": [
    "# Passo 3: Entender como funcionam requisições na internet."
   ]
  },
  {
   "cell_type": "code",
   "execution_count": null,
   "id": "9c20a1d0",
   "metadata": {},
   "outputs": [],
   "source": [
    "driver = webdriver.Chrome(service = Service(ChromeDriverManager().install()))\n",
    "\n",
    "driver.get('https://www.etf.com/etfanalytics/etf-finder')"
   ]
  },
  {
   "cell_type": "markdown",
   "id": "6edca4b6",
   "metadata": {},
   "source": [
    "# Passo 4: Conhecer e mapear o processo de coleta de dados no site do ETF.com."
   ]
  },
  {
   "cell_type": "markdown",
   "id": "b527b3a8",
   "metadata": {},
   "source": [
    "# Passo 5.1: Achar todos os elementos necessários dentro do HTML do site - Expandindo a tabela para 100 itens."
   ]
  },
  {
   "cell_type": "code",
   "execution_count": null,
   "id": "a90728fb",
   "metadata": {},
   "outputs": [],
   "source": [
    "time.sleep(5)\n",
    "\n",
    "botao_100 = driver.find_element(\"xpath\",\n",
    "                               '/html/body/div[5]/section/div/div[3]/section/div/div/div/div/div[2]/section[2]/div[2]/section[2]/div[1]/div/div[4]/button/label/span')\n",
    "\n",
    "botao_100.click()\n",
    "\n",
    "#driver.execute_script(\"arguments[0].click();\", botao_100)\n"
   ]
  },
  {
   "cell_type": "markdown",
   "id": "5049291d",
   "metadata": {},
   "source": [
    "# Passo 5.2: Achar todos os elementos necessários dentro do HTML do site - Pegando o número de páginas da tabela."
   ]
  },
  {
   "cell_type": "code",
   "execution_count": null,
   "id": "168af3d8",
   "metadata": {},
   "outputs": [],
   "source": [
    "numero_paginas = driver.find_element(\"xpath\", '//*[@id=\"totalPages\"]')\n",
    "\n",
    "numero_paginas = numero_paginas.text.replace(\"of \", \"\")\n",
    "\n",
    "numero_paginas = int(numero_paginas)\n",
    "\n",
    "numero_paginas"
   ]
  },
  {
   "cell_type": "markdown",
   "id": "57042704",
   "metadata": {},
   "source": [
    "# Passo 6.1: Lendo a tabela de dados - Lendo a tabela de dados básicos."
   ]
  },
  {
   "cell_type": "code",
   "execution_count": null,
   "id": "567644f4",
   "metadata": {},
   "outputs": [],
   "source": [
    "elemento = driver.find_element(\"xpath\", '//*[@id=\"finderTable\"]')\n",
    "\n",
    "html_tabela = elemento.get_attribute('outerHTML')\n",
    "\n",
    "tabela = pd.read_html(str(html_tabela))[0]\n",
    "\n",
    "tabela"
   ]
  },
  {
   "cell_type": "code",
   "execution_count": null,
   "id": "040970a1",
   "metadata": {},
   "outputs": [],
   "source": [
    "lista_tabela_por_pagina = []\n",
    "\n",
    "elemento = driver.find_element(\"xpath\", '//*[@id=\"finderTable\"]')\n",
    "\n",
    "for pagina in range(1, numero_paginas + 1):\n",
    "    \n",
    "    html_tabela = elemento.get_attribute('outerHTML')\n",
    "    \n",
    "    tabela = pd.read_html(str(html_tabela))[0]\n",
    "    \n",
    "    lista_tabela_por_pagina.append(tabela)\n",
    "    \n",
    "    botao_avancar_pagina = driver.find_element(\"xpath\", '//*[@id=\"nextPage\"]')\n",
    "    \n",
    "    botao_avancar_pagina.click()\n",
    "    \n",
    "    \n",
    "tabela_cadastro_etfs = pd.concat(lista_tabela_por_pagina)\n",
    "\n",
    "tabela_cadastro_etfs"
   ]
  },
  {
   "cell_type": "markdown",
   "id": "47c3560e",
   "metadata": {},
   "source": [
    "# Passo 6.2: Ler a tabela de dados - Preenchendo um campo no site pra voltar as páginas"
   ]
  },
  {
   "cell_type": "code",
   "execution_count": null,
   "id": "086004bb",
   "metadata": {},
   "outputs": [],
   "source": [
    "formulario_de_voltar_pagina = driver.find_element(\"xpath\", '//*[@id=\"goToPage\"]')\n",
    "\n",
    "formulario_de_voltar_pagina.clear()\n",
    "formulario_de_voltar_pagina.send_keys(\"1\")\n",
    "formulario_de_voltar_pagina.send_keys(u'\\ue007')"
   ]
  },
  {
   "cell_type": "markdown",
   "id": "07c4487d",
   "metadata": {},
   "source": [
    "# Passo 6.3: Ler a tabela de dados - Lendo a tabela de dados de rentabilidade."
   ]
  },
  {
   "cell_type": "code",
   "execution_count": null,
   "id": "8e336174",
   "metadata": {},
   "outputs": [],
   "source": [
    "botao_mudar_pra_performance = driver.find_element(\"xpath\", '/html/body/div[5]/section/div/div[3]/section/div/div/div/div/div[2]/section[2]/div[2]/ul/li[2]/span')\n",
    "\n",
    "botao_mudar_pra_performance.click()\n",
    "\n",
    "# a partir daqui é tudo igual\n",
    "\n",
    "lista_tabela_por_pagina = []\n",
    "\n",
    "elemento = driver.find_element(\"xpath\", '//*[@id=\"finderTable\"]')\n",
    "\n",
    "for pagina in range(1, numero_paginas + 1):\n",
    "    \n",
    "    html_tabela = elemento.get_attribute('outerHTML')\n",
    "    \n",
    "    tabela = pd.read_html(str(html_tabela))[0]\n",
    "    \n",
    "    lista_tabela_por_pagina.append(tabela)\n",
    "    \n",
    "    botao_avancar_pagina = driver.find_element(\"xpath\", '//*[@id=\"nextPage\"]')\n",
    "    \n",
    "    driver.execute_script(\"arguments[0].click();\", botao_avancar_pagina)\n",
    "    \n",
    "    \n",
    "tabela_rentabilidade_etfs = pd.concat(lista_tabela_por_pagina)\n",
    "\n",
    "tabela_rentabilidade_etfs"
   ]
  },
  {
   "cell_type": "code",
   "execution_count": null,
   "id": "36116879",
   "metadata": {},
   "outputs": [],
   "source": [
    "driver.quit()"
   ]
  },
  {
   "cell_type": "code",
   "execution_count": null,
   "id": "6cc1f651",
   "metadata": {},
   "outputs": [],
   "source": [
    "tabela_cadastro_etfs"
   ]
  },
  {
   "cell_type": "code",
   "execution_count": null,
   "id": "612b0ea4",
   "metadata": {},
   "outputs": [],
   "source": [
    "tabela_rentabilidade_etfs"
   ]
  },
  {
   "cell_type": "markdown",
   "id": "bab73521",
   "metadata": {},
   "source": [
    "# Passo 7: Construindo a tabela final."
   ]
  },
  {
   "cell_type": "code",
   "execution_count": null,
   "id": "3151128a",
   "metadata": {},
   "outputs": [],
   "source": [
    "tabela_rentabilidade_etfs = tabela_rentabilidade_etfs.set_index(\"Ticker\")\n",
    "tabela_rentabilidade_etfs = tabela_rentabilidade_etfs[['1 Year', '3 Years', '5 Years']]\n",
    "tabela_cadastro_etfs = tabela_cadastro_etfs.set_index(\"Ticker\")"
   ]
  },
  {
   "cell_type": "code",
   "execution_count": null,
   "id": "ddd02ff9",
   "metadata": {
    "scrolled": true
   },
   "outputs": [],
   "source": [
    "base_de_dados_final = tabela_cadastro_etfs.join(tabela_rentabilidade_etfs, how = 'inner')\n",
    "\n",
    "base_de_dados_final"
   ]
  },
  {
   "cell_type": "code",
   "execution_count": null,
   "id": "2505873d",
   "metadata": {},
   "outputs": [],
   "source": []
  },
  {
   "cell_type": "code",
   "execution_count": null,
   "id": "7b0a0820",
   "metadata": {},
   "outputs": [],
   "source": []
  },
  {
   "cell_type": "code",
   "execution_count": null,
   "id": "6feeaad9",
   "metadata": {},
   "outputs": [],
   "source": []
  },
  {
   "cell_type": "code",
   "execution_count": null,
   "id": "d4341228",
   "metadata": {},
   "outputs": [],
   "source": []
  }
 ],
 "metadata": {
  "kernelspec": {
   "display_name": "Python 3 (ipykernel)",
   "language": "python",
   "name": "python3"
  },
  "language_info": {
   "codemirror_mode": {
    "name": "ipython",
    "version": 3
   },
   "file_extension": ".py",
   "mimetype": "text/x-python",
   "name": "python",
   "nbconvert_exporter": "python",
   "pygments_lexer": "ipython3",
   "version": "3.9.12"
  }
 },
 "nbformat": 4,
 "nbformat_minor": 5
}
