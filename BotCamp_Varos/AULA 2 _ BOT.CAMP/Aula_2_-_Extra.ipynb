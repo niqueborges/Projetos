{
 "cells": [
  {
   "cell_type": "markdown",
   "id": "a0ed491d",
   "metadata": {},
   "source": [
    "# Aula extra - Como analisar os dados de rentabilidade?\n",
    "\n",
    "### Desafio:\n",
    "\n",
    "* Construir um código que faça um ranking dos melhores fundos em três períodos de rentabilidade diferentes. Iremos selecionar os 10 melhores posicionados no quesito rentabilidade no curto e no longo prazo.\n",
    "\n",
    "* Essa aula será mais curta. \n",
    "\n",
    "### Passo a passo:\n",
    "\n",
    "   **Passo 1** - Puxar as tabelas igual na aula 2.\n",
    "   \n",
    "   **Passo 2** - Escolher quais períodos de rentabilidade iremos analisar.\n",
    "   \n",
    "   **Passo 3** - Retirar os dados faltantes. Fundos que não possuem os períodos necessários, ficarão de fora. \n",
    "\n",
    "   **Passo 4** - Transformar as rentabilidades em números decimais, ao invés de string. \n",
    "   \n",
    "   **Passo 5** - Juntar as tabelas, igual na aula 2. \n",
    "   \n",
    "   **Passo 6** - Filtrar os ETFs alavancados. \n",
    "   \n",
    "   **Passo 7** - Fazer os rankings de rentabilidade por período e soma-los. \n",
    "   \n",
    "   **Passo 8** - Ordenar do menor ranking pro maior, encontrando os \"melhores\" ETFs."
   ]
  },
  {
   "cell_type": "markdown",
   "id": "3a77f977",
   "metadata": {},
   "source": [
    "# Passo 1: Puxar as tabelas igual na aula 2."
   ]
  },
  {
   "cell_type": "code",
   "execution_count": 1,
   "id": "f5ca744e",
   "metadata": {},
   "outputs": [],
   "source": [
    "from selenium import webdriver\n",
    "from selenium.webdriver.chrome.service import Service\n",
    "from webdriver_manager.chrome import ChromeDriverManager\n",
    "import time\n",
    "import pandas as pd"
   ]
  },
  {
   "cell_type": "code",
   "execution_count": 5,
   "id": "d2cd63f0",
   "metadata": {},
   "outputs": [],
   "source": [
    "driver = webdriver.Chrome(service = Service(ChromeDriverManager().install()))\n",
    "\n",
    "driver.get('https://www.etf.com/etfanalytics/etf-finder')\n",
    "\n",
    "time.sleep(5)\n",
    "\n",
    "botao_100 = driver.find_element(\"xpath\",\n",
    "                               '/html/body/div[5]/section/div/div[3]/section/div/div/div/div/div[2]/section[2]/div[2]/section[2]/div[1]/div/div[4]/button/label/span')\n",
    "\n",
    "driver.execute_script(\"arguments[0].click();\", botao_100)\n",
    "\n",
    "numero_paginas = driver.find_element(\"xpath\", '//*[@id=\"totalPages\"]')\n",
    "\n",
    "numero_paginas = numero_paginas.text.replace(\"of \", \"\")\n",
    "\n",
    "numero_paginas = int(numero_paginas)\n",
    "\n",
    "elemento = driver.find_element(\"xpath\", '//*[@id=\"finderTable\"]')\n",
    "\n",
    "html_tabela = elemento.get_attribute('outerHTML')\n",
    "\n",
    "lista_tabela_por_pagina = []\n",
    "\n",
    "elemento = driver.find_element(\"xpath\", '//*[@id=\"finderTable\"]')\n",
    "\n",
    "for pagina in range(1, numero_paginas + 1):\n",
    "    \n",
    "    html_tabela = elemento.get_attribute('outerHTML')\n",
    "    \n",
    "    tabela = pd.read_html(str(html_tabela))[0]\n",
    "    \n",
    "    lista_tabela_por_pagina.append(tabela)\n",
    "    \n",
    "    botao_avancar_pagina = driver.find_element(\"xpath\", '//*[@id=\"nextPage\"]')\n",
    "    \n",
    "    driver.execute_script(\"arguments[0].click();\", botao_avancar_pagina)\n",
    "    \n",
    "    \n",
    "tabela_cadastro_etfs = pd.concat(lista_tabela_por_pagina)\n",
    "\n",
    "\n",
    "formulario_de_voltar_pagina = driver.find_element(\"xpath\", '//*[@id=\"goToPage\"]')\n",
    "\n",
    "formulario_de_voltar_pagina.clear()\n",
    "formulario_de_voltar_pagina.send_keys(\"1\")\n",
    "formulario_de_voltar_pagina.send_keys(u'\\ue007')\n",
    "\n",
    "botao_mudar_pra_performance = driver.find_element(\"xpath\", '/html/body/div[5]/section/div/div[3]/section/div/div/div/div/div[2]/section[2]/div[2]/ul/li[2]/span')\n",
    "\n",
    "driver.execute_script(\"arguments[0].click();\", botao_mudar_pra_performance)\n",
    "\n",
    "# a partir daqui é tudo igual\n",
    "\n",
    "lista_tabela_por_pagina = []\n",
    "\n",
    "elemento = driver.find_element(\"xpath\", '//*[@id=\"finderTable\"]')\n",
    "\n",
    "for pagina in range(1, numero_paginas + 1):\n",
    "    \n",
    "    html_tabela = elemento.get_attribute('outerHTML')\n",
    "    \n",
    "    tabela = pd.read_html(str(html_tabela))[0]\n",
    "    \n",
    "    lista_tabela_por_pagina.append(tabela)\n",
    "    \n",
    "    botao_avancar_pagina = driver.find_element(\"xpath\", '//*[@id=\"nextPage\"]')\n",
    "    \n",
    "    driver.execute_script(\"arguments[0].click();\", botao_avancar_pagina)\n",
    "    \n",
    "    \n",
    "tabela_rentabilidade_etfs = pd.concat(lista_tabela_por_pagina)\n",
    "\n",
    "driver.quit()\n",
    "                                                               "
   ]
  },
  {
   "cell_type": "code",
   "execution_count": 52,
   "id": "10493acc",
   "metadata": {},
   "outputs": [],
   "source": [
    "tabela_cadastro_etfs = tabela_cadastro_etfs.set_index('Ticker')\n",
    "tabela_rentabilidade_etfs = tabela_rentabilidade_etfs.set_index(\"Ticker\")"
   ]
  },
  {
   "cell_type": "markdown",
   "id": "dc9a595c",
   "metadata": {},
   "source": [
    "# Passo 2: Escolher quais períodos de rentabilidade iremos analisar.\n",
    "\n",
    "No nosso caso, iremos pegar as janelas de 1, 3 e 5 anos. "
   ]
  },
  {
   "cell_type": "code",
   "execution_count": null,
   "id": "99e88ff0",
   "metadata": {
    "scrolled": true
   },
   "outputs": [],
   "source": [
    "tabela_rentabilidade_etfs = tabela_rentabilidade_etfs[['1 Year', '3 Years', '5 Years']]\n",
    "\n",
    "tabela_rentabilidade_etfs"
   ]
  },
  {
   "cell_type": "markdown",
   "id": "fed731a0",
   "metadata": {},
   "source": [
    "# Passo 3: Retirar os dados faltantes. Fundos que não possuem os períodos necessários, ficarão de fora. "
   ]
  },
  {
   "cell_type": "code",
   "execution_count": null,
   "id": "045ccde2",
   "metadata": {},
   "outputs": [],
   "source": [
    "tabela_rentabilidade_etfs = tabela_rentabilidade_etfs.replace(\"--\", pd.NA)\n",
    "\n",
    "tabela_rentabilidade_etfs = tabela_rentabilidade_etfs.dropna()"
   ]
  },
  {
   "cell_type": "markdown",
   "id": "9328d33a",
   "metadata": {},
   "source": [
    "# Passo 4: Transformar as rentabilidades em números decimais"
   ]
  },
  {
   "cell_type": "code",
   "execution_count": null,
   "id": "fb3a9e95",
   "metadata": {},
   "outputs": [],
   "source": [
    "for coluna in tabela_rentabilidade_etfs.columns:\n",
    "    \n",
    "    tabela_rentabilidade_etfs[coluna] = tabela_rentabilidade_etfs[coluna].str.rstrip(\"%\").astype(float)/100"
   ]
  },
  {
   "cell_type": "markdown",
   "id": "bb358222",
   "metadata": {},
   "source": [
    "# Passo 5: Juntar as tabelas, igual na aula 2."
   ]
  },
  {
   "cell_type": "code",
   "execution_count": null,
   "id": "93b698de",
   "metadata": {},
   "outputs": [],
   "source": [
    "base_final = tabela_cadastro_etfs.join(tabela_rentabilidade_etfs, how = \"inner\")\n",
    "\n",
    "base_final"
   ]
  },
  {
   "cell_type": "markdown",
   "id": "839e18bf",
   "metadata": {},
   "source": [
    "# Passo 6: Filtrar os ETFs alavancados."
   ]
  },
  {
   "cell_type": "code",
   "execution_count": null,
   "id": "79ecdb01",
   "metadata": {},
   "outputs": [],
   "source": [
    "base_final = base_final[~base_final['Segment'].str.contains(\"Leveraged\")]\n",
    "\n",
    "base_final"
   ]
  },
  {
   "cell_type": "markdown",
   "id": "6d2c91b0",
   "metadata": {},
   "source": [
    "# Passo 7: Fazer os rankings de rentabilidade por período e soma-los. "
   ]
  },
  {
   "cell_type": "code",
   "execution_count": null,
   "id": "45bbd87a",
   "metadata": {},
   "outputs": [],
   "source": [
    "base_final['rank_1_anos'] = base_final['1 Year'].rank(ascending = False)\n",
    "base_final['rank_3_anos'] = base_final['3 Years'].rank(ascending = False)\n",
    "base_final['rank_5_anos'] = base_final['5 Years'].rank(ascending = False)\n",
    "base_final['rank_final'] = (base_final['rank_1_anos'] + \n",
    "                                  base_final['rank_3_anos'] + \n",
    "                                  base_final['rank_5_anos'])\n",
    "\n",
    "base_final"
   ]
  },
  {
   "cell_type": "markdown",
   "id": "4e2ade20",
   "metadata": {},
   "source": [
    "# Passo 8: Gran finale - Ordenar do menor ranking pro maior, encontrando os \"melhores\" ETFs."
   ]
  },
  {
   "cell_type": "code",
   "execution_count": null,
   "id": "3fb808f5",
   "metadata": {
    "scrolled": true
   },
   "outputs": [],
   "source": [
    "base_final = base_final.sort_values(by = \"rank_final\")\n",
    "\n",
    "base_final.head(20)"
   ]
  },
  {
   "cell_type": "code",
   "execution_count": null,
   "id": "52872a5e",
   "metadata": {},
   "outputs": [],
   "source": []
  }
 ],
 "metadata": {
  "kernelspec": {
   "display_name": "Python 3 (ipykernel)",
   "language": "python",
   "name": "python3"
  },
  "language_info": {
   "codemirror_mode": {
    "name": "ipython",
    "version": 3
   },
   "file_extension": ".py",
   "mimetype": "text/x-python",
   "name": "python",
   "nbconvert_exporter": "python",
   "pygments_lexer": "ipython3",
   "version": "3.9.12"
  }
 },
 "nbformat": 4,
 "nbformat_minor": 5
}
