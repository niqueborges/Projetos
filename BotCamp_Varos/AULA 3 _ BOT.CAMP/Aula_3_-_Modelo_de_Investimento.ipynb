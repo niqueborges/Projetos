{
 "cells": [
  {
   "cell_type": "markdown",
   "id": "0403b798",
   "metadata": {},
   "source": [
    "# Projeto 3 - Fazendo um modelo de investimento com Python - Factor Investing no Ibovespa.\n",
    "\n",
    "\n",
    "### Desafio:\n",
    "\n",
    "* Construir um código que faça um backtesting dos últimos 6 anos, escolhendo as 8 melhores ações do índice ibovespa e utilizando como critério o fator momento 7 meses.\n",
    "\n",
    "### Passo a passo da estratégia:\n",
    "\n",
    "   **Passo 1** - Definir um universo investível.\n",
    "\n",
    "   **Passo 2** - Escolher o fator que servirá como critério para criação dos rankings.\n",
    "   \n",
    "   **Passo 3** - Escolher o período de teste.\n",
    "   \n",
    "   **Passo 4** - Escolher o número de ações na carteira. \n",
    "   \n",
    "   **Passo 5** - Definir o período de balanceamento. De quanto em quanto tempo a carteira muda?\n",
    "   \n",
    "### Passo a passo do código? \n",
    "\n",
    "   **Passo 1** - Ler a composição histórica do Ibovespa e os tickers que já passaram pelo índice.\n",
    "   \n",
    "   **Passo 2** - Puxar as cotações de todas as empresas que farão parte do backtest.\n",
    "   \n",
    "   **Passo 3** - Transformar o índice em data e ordenar a série de tempo. \n",
    "\n",
    "   **Passo 4** - Calcular a média dos retornos 7 meses e ajustar a tabela com o fator. \n",
    "   \n",
    "   **Passo 5** - Classificar e retirar empresas que não participaram do Ibovespa no período de tempo selecionado.  \n",
    "   \n",
    "   **Passo 6** - Criar as carteiras de investimento em uma matriz de 0 ou 1. \n",
    "   \n",
    "   **Passo 7** - Calcular o retorno mensal das empresas no período de backtest. \n",
    "\n",
    "   **Passo 8** - Cruzar a matriz de retorno mensal com a matriz das carteiras para chegar na rentabilidade do modelo.\n",
    "   \n",
    "   **Passo 9** - Puxar e calcular a rentabilidade do Ibovespa no período. \n",
    "   \n",
    "   **Passo 10** - Calcular e visualizar as rentabilidades do modelo contra o Ibovespa. "
   ]
  },
  {
   "cell_type": "code",
   "execution_count": null,
   "id": "b1c9f95e",
   "metadata": {},
   "outputs": [],
   "source": [
    "import yfinance as yf\n",
    "import pandas as pd\n",
    "import quantstats as qs"
   ]
  },
  {
   "cell_type": "markdown",
   "id": "664c3dc3",
   "metadata": {},
   "source": [
    "# Passo 1 - Ler a composição histórica do Ibovespa e os tickers que já passaram pelo índice."
   ]
  },
  {
   "cell_type": "code",
   "execution_count": null,
   "id": "5ac49aaa",
   "metadata": {
    "scrolled": true
   },
   "outputs": [],
   "source": [
    "comp_historica = pd.read_excel('composicao_ibov.xlsx')\n",
    "tickers = pd.read_excel('composicao_ibov.xlsx', sheet_name = 'lista_acoes')\n",
    "\n",
    "\n",
    "tickers"
   ]
  },
  {
   "cell_type": "code",
   "execution_count": null,
   "id": "4e23cbc7",
   "metadata": {},
   "outputs": [],
   "source": [
    "comp_historica"
   ]
  },
  {
   "cell_type": "markdown",
   "id": "1ef38cd1",
   "metadata": {},
   "source": [
    "# Passo 2 - Puxar as cotações de todas as empresas que farão parte do backtest. "
   ]
  },
  {
   "cell_type": "code",
   "execution_count": null,
   "id": "d97bd04d",
   "metadata": {},
   "outputs": [],
   "source": []
  },
  {
   "cell_type": "code",
   "execution_count": null,
   "id": "291a0897",
   "metadata": {
    "scrolled": true
   },
   "outputs": [],
   "source": [
    "dados_cotacoes = yf.download(tickers = tickers['tickers'].to_list(),\n",
    "                            start = \"2015-05-29\", end = \"2022-12-31\")['Adj Close']\n",
    "\n",
    "dados_cotacoes"
   ]
  },
  {
   "cell_type": "markdown",
   "id": "eba48474",
   "metadata": {},
   "source": [
    "# Passo 3 - Transformar o índice em data e ordenar a série de tempo. "
   ]
  },
  {
   "cell_type": "code",
   "execution_count": null,
   "id": "38418f9b",
   "metadata": {},
   "outputs": [],
   "source": [
    "dados_cotacoes.index = pd.to_datetime(dados_cotacoes.index)\n",
    "dados_cotacoes = dados_cotacoes.sort_index()\n",
    "\n",
    "dados_cotacoes\n"
   ]
  },
  {
   "cell_type": "markdown",
   "id": "8d076c1d",
   "metadata": {},
   "source": [
    "# Passo 4 - Calcular a média dos retornos nos últimos 7 meses e ajustar a tabela com o fator. "
   ]
  },
  {
   "cell_type": "code",
   "execution_count": null,
   "id": "abb02dae",
   "metadata": {},
   "outputs": [],
   "source": [
    "r7 = (dados_cotacoes.resample(\"M\").last().pct_change().rolling(7).mean().\n",
    "                    dropna(axis = 0, how = \"all\").drop('2022-12-31'))\n",
    "\n",
    "r7"
   ]
  },
  {
   "cell_type": "markdown",
   "id": "2ac02422",
   "metadata": {},
   "source": [
    "# Passo 5 - Classificar e retirar empresas que não participaram do Ibovespa no período de tempo selecionado. "
   ]
  },
  {
   "cell_type": "code",
   "execution_count": null,
   "id": "de597e53",
   "metadata": {},
   "outputs": [],
   "source": [
    "for data in r7.index:\n",
    "    for empresa in r7.columns:\n",
    "\n",
    "        if empresa.replace(\".SA\", \"\") not in comp_historica.loc[:, data].to_list():\n",
    "\n",
    "            r7.loc[data, empresa] = pd.NA\n",
    "            \n",
    "r7"
   ]
  },
  {
   "cell_type": "markdown",
   "id": "58967173",
   "metadata": {},
   "source": [
    "# Passo 6 - Criar as carteiras de investimento em uma matriz de 0 ou 1. "
   ]
  },
  {
   "cell_type": "code",
   "execution_count": null,
   "id": "65238fdc",
   "metadata": {
    "scrolled": true
   },
   "outputs": [],
   "source": [
    "carteiras = r7.rank(axis = 1, ascending = False)\n",
    "\n",
    "for data in carteiras.index:\n",
    "    for empresa in carteiras.columns:\n",
    "\n",
    "        if carteiras.loc[data, empresa] < 9:\n",
    "\n",
    "            carteiras.loc[data, empresa] = 1\n",
    "            \n",
    "        else:\n",
    "            \n",
    "            carteiras.loc[data, empresa] = 0\n",
    "            \n",
    "            \n",
    "            \n",
    "carteiras"
   ]
  },
  {
   "cell_type": "markdown",
   "id": "e36b79b8",
   "metadata": {},
   "source": [
    "# Passo 7 - Calcular o retorno mensal das empresas no período de backtest. "
   ]
  },
  {
   "cell_type": "code",
   "execution_count": null,
   "id": "32fa3b05",
   "metadata": {
    "scrolled": true
   },
   "outputs": [],
   "source": [
    "retorno_mensal = dados_cotacoes.resample(\"M\").last().pct_change()\n",
    "retorno_mensal = retorno_mensal.drop(retorno_mensal.index[:8], axis = 0)\n",
    "carteiras.index = retorno_mensal.index\n",
    "\n",
    "carteiras"
   ]
  },
  {
   "cell_type": "code",
   "execution_count": null,
   "id": "24c18baa",
   "metadata": {},
   "outputs": [],
   "source": [
    "retorno_mensal"
   ]
  },
  {
   "cell_type": "markdown",
   "id": "ed1f648c",
   "metadata": {},
   "source": [
    "# Passo 8 - Cruzar a matriz de retorno mensal com a matriz das carteiras para chegar na rentabilidade do modelo."
   ]
  },
  {
   "cell_type": "code",
   "execution_count": null,
   "id": "83331530",
   "metadata": {
    "scrolled": false
   },
   "outputs": [],
   "source": [
    "comp_historica = pd.read_excel('composicao_ibov.xlsx')\n",
    "tickers = pd.read_excel('composicao_ibov.xlsx', sheet_name = 'lista_acoes')\n",
    "\n",
    "dados_cotacoes = yf.download(tickers = tickers['tickers'].to_list(),\n",
    "                            start = \"2015-05-29\", end = \"2022-12-31\")['Adj Close']\n",
    "\n",
    "dados_cotacoes.index = pd.to_datetime(dados_cotacoes.index)\n",
    "dados_cotacoes = dados_cotacoes.sort_index()\n",
    "\n",
    "r7 = (dados_cotacoes.resample(\"M\").last().pct_change().rolling(7).mean().\n",
    "                    dropna(axis = 0, how = \"all\").drop('2022-12-31'))\n",
    "\n",
    "\n",
    "for data in r7.index:\n",
    "    for empresa in r7.columns:\n",
    "\n",
    "        if empresa.replace(\".SA\", \"\") not in comp_historica.loc[:, data].to_list():\n",
    "\n",
    "            r7.loc[data, empresa] = pd.NA\n",
    "\n",
    "carteiras = r7.rank(axis = 1, ascending = False)\n",
    "\n",
    "for data in carteiras.index:\n",
    "    for empresa in carteiras.columns:\n",
    "\n",
    "        if carteiras.loc[data, empresa] < 9:\n",
    "\n",
    "            carteiras.loc[data, empresa] = 1\n",
    "            \n",
    "        else:\n",
    "            \n",
    "            carteiras.loc[data, empresa] = 0\n",
    "\n",
    "            \n",
    "retorno_mensal = dados_cotacoes.resample(\"M\").last().pct_change()\n",
    "retorno_mensal = retorno_mensal.drop(retorno_mensal.index[:8], axis = 0)\n",
    "carteiras.index = retorno_mensal.index\n",
    "\n",
    "retorno_modelo = (carteiras * retorno_mensal).sum(axis = 1)/8\n",
    "\n",
    "retorno_modelo"
   ]
  },
  {
   "cell_type": "code",
   "execution_count": null,
   "id": "8778ab00",
   "metadata": {},
   "outputs": [],
   "source": [
    "retorno_modelo = (carteiras * retorno_mensal).sum(axis = 1)/8"
   ]
  },
  {
   "cell_type": "markdown",
   "id": "394ec3b8",
   "metadata": {},
   "source": [
    "# Passo 8.2 - Visualizar a rentabilidade do modelo com o quantstats."
   ]
  },
  {
   "cell_type": "code",
   "execution_count": null,
   "id": "91ba5612",
   "metadata": {
    "scrolled": false
   },
   "outputs": [],
   "source": [
    "qs.extend_pandas()\n",
    "\n",
    "retorno_modelo.plot_monthly_heatmap()"
   ]
  },
  {
   "cell_type": "markdown",
   "id": "808b8736",
   "metadata": {},
   "source": [
    "# Passo 9 - Puxar e calcular a rentabilidade do Ibovespa no período."
   ]
  },
  {
   "cell_type": "code",
   "execution_count": null,
   "id": "e5291e97",
   "metadata": {},
   "outputs": [],
   "source": [
    "ibovespa = yf.download(\"^BVSP\", start = \"2015-12-30\", end = \"2022-12-31\")['Adj Close']\n",
    "\n",
    "retornos_ibovespa = ibovespa.resample(\"M\").last().pct_change().dropna()\n",
    "\n",
    "retornos_ibovespa"
   ]
  },
  {
   "cell_type": "markdown",
   "id": "bfade001",
   "metadata": {},
   "source": [
    "# Passo 10 -  Calcular e visualizar as rentabilidades do modelo contra o Ibovespa. "
   ]
  },
  {
   "cell_type": "code",
   "execution_count": null,
   "id": "ed3c8b1c",
   "metadata": {},
   "outputs": [],
   "source": [
    "retorno_acum_modelo = (1 + retorno_modelo).cumprod() - 1 \n",
    "\n",
    "retorno_acum_ibov = (1 + retornos_ibovespa).cumprod() - 1 \n",
    "\n",
    "retorno_acum_modelo.plot_monthly_heatmap()\n",
    "\n",
    "retorno_acum_ibov.plot_monthly_heatmap()"
   ]
  },
  {
   "cell_type": "markdown",
   "id": "381cfc39",
   "metadata": {},
   "source": [
    "# Passo 11 -  Calcular e visualizar as rentabilidades do modelo contra o Ibovespa. "
   ]
  },
  {
   "cell_type": "code",
   "execution_count": null,
   "id": "ecad2b99",
   "metadata": {
    "scrolled": false
   },
   "outputs": [],
   "source": [
    "overperfom_modelo_menos_ibov = retorno_modelo - retornos_ibovespa\n",
    "\n",
    "overperfom_modelo_menos_ibov.plot_monthly_heatmap()"
   ]
  },
  {
   "cell_type": "code",
   "execution_count": null,
   "id": "dccdc4eb",
   "metadata": {},
   "outputs": [],
   "source": []
  },
  {
   "cell_type": "code",
   "execution_count": null,
   "id": "d411a89d",
   "metadata": {},
   "outputs": [],
   "source": []
  },
  {
   "cell_type": "code",
   "execution_count": null,
   "id": "459a2179",
   "metadata": {},
   "outputs": [],
   "source": []
  },
  {
   "cell_type": "code",
   "execution_count": null,
   "id": "43c13023",
   "metadata": {},
   "outputs": [],
   "source": []
  },
  {
   "cell_type": "code",
   "execution_count": null,
   "id": "0ea75047",
   "metadata": {},
   "outputs": [],
   "source": []
  }
 ],
 "metadata": {
  "kernelspec": {
   "display_name": "Python 3 (ipykernel)",
   "language": "python",
   "name": "python3"
  },
  "language_info": {
   "codemirror_mode": {
    "name": "ipython",
    "version": 3
   },
   "file_extension": ".py",
   "mimetype": "text/x-python",
   "name": "python",
   "nbconvert_exporter": "python",
   "pygments_lexer": "ipython3",
   "version": "3.9.12"
  }
 },
 "nbformat": 4,
 "nbformat_minor": 5
}
