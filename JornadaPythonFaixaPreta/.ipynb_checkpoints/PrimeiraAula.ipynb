{
 "cells": [
  {
   "cell_type": "markdown",
   "id": "34ff2a6f",
   "metadata": {},
   "source": [
    "# Média"
   ]
  },
  {
   "cell_type": "code",
   "execution_count": 1,
   "id": "a2baac1b",
   "metadata": {},
   "outputs": [
    {
     "name": "stdout",
     "output_type": "stream",
     "text": [
      "8.25\n"
     ]
    }
   ],
   "source": [
    "aluno ='Felipe Cabrera'\n",
    "\n",
    "mensal = 9.0\n",
    "bimestral = 7.5\n",
    "\n",
    "soma = mensal + bimestral\n",
    "quantidade = 2\n",
    "\n",
    "media = soma / quantidade\n",
    "print(media)"
   ]
  },
  {
   "cell_type": "code",
   "execution_count": null,
   "id": "b7552ab2",
   "metadata": {},
   "outputs": [],
   "source": []
  }
 ],
 "metadata": {
  "kernelspec": {
   "display_name": "Python 3 (ipykernel)",
   "language": "python",
   "name": "python3"
  },
  "language_info": {
   "codemirror_mode": {
    "name": "ipython",
    "version": 3
   },
   "file_extension": ".py",
   "mimetype": "text/x-python",
   "name": "python",
   "nbconvert_exporter": "python",
   "pygments_lexer": "ipython3",
   "version": "3.9.13"
  }
 },
 "nbformat": 4,
 "nbformat_minor": 5
}
