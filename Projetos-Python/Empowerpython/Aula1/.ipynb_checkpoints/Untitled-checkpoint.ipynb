{
 "cells": [
  {
   "cell_type": "markdown",
   "id": "53092f7b",
   "metadata": {},
   "source": [
    "# Meu primeiro código Python"
   ]
  },
  {
   "cell_type": "code",
   "execution_count": 4,
   "id": "68ed3a72",
   "metadata": {},
   "outputs": [
    {
     "name": "stdout",
     "output_type": "stream",
     "text": [
      "Orçamento gerado com sucesso!\n",
      "Semana do Python na Prática.\n",
      "Eu amo programar em Python.\n"
     ]
    }
   ],
   "source": [
    "print(\"Orçamento gerado com sucesso!\")\n",
    "print(\"Semana do Python na Prática.\")\n",
    "print(\"Eu amo programar em Python.\")"
   ]
  },
  {
   "cell_type": "markdown",
   "id": "ffbd9020",
   "metadata": {},
   "source": [
    "# Entrada de dados do usuário"
   ]
  },
  {
   "cell_type": "code",
   "execution_count": 9,
   "id": "6b7a33a1",
   "metadata": {},
   "outputs": [
    {
     "name": "stdout",
     "output_type": "stream",
     "text": [
      "Digite a descrição do projeto: ´kyhgh\n",
      "Digite a quantidade de horas estimadas: lkkyrf\n",
      "Digite o valor da hora trabalhada: jhhjgd\n",
      "Digite o prazo: jkhhf\n"
     ]
    },
    {
     "data": {
      "text/plain": [
       "'jkhhf'"
      ]
     },
     "execution_count": 9,
     "metadata": {},
     "output_type": "execute_result"
    }
   ],
   "source": [
    "input(\"Digite a descrição do projeto: \")\n",
    "input(\"Digite a quantidade de horas estimadas: \")\n",
    "input(\"Digite o valor da hora trabalhada: \")\n",
    "input(\"Digite o prazo: \")"
   ]
  },
  {
   "cell_type": "markdown",
   "id": "d5493244",
   "metadata": {},
   "source": [
    "# Guardando os dados (variáveis)"
   ]
  },
  {
   "cell_type": "code",
   "execution_count": null,
   "id": "5a4ec663",
   "metadata": {},
   "outputs": [],
   "source": []
  },
  {
   "cell_type": "code",
   "execution_count": null,
   "id": "00eeae86",
   "metadata": {},
   "outputs": [],
   "source": []
  },
  {
   "cell_type": "code",
   "execution_count": null,
   "id": "347875a5",
   "metadata": {},
   "outputs": [],
   "source": []
  },
  {
   "cell_type": "code",
   "execution_count": null,
   "id": "794d9aee",
   "metadata": {},
   "outputs": [],
   "source": []
  },
  {
   "cell_type": "code",
   "execution_count": null,
   "id": "6d80a7c2",
   "metadata": {},
   "outputs": [],
   "source": []
  },
  {
   "cell_type": "code",
   "execution_count": null,
   "id": "1b5c3187",
   "metadata": {},
   "outputs": [],
   "source": []
  }
 ],
 "metadata": {
  "kernelspec": {
   "display_name": "Python 3 (ipykernel)",
   "language": "python",
   "name": "python3"
  },
  "language_info": {
   "codemirror_mode": {
    "name": "ipython",
    "version": 3
   },
   "file_extension": ".py",
   "mimetype": "text/x-python",
   "name": "python",
   "nbconvert_exporter": "python",
   "pygments_lexer": "ipython3",
   "version": "3.9.13"
  }
 },
 "nbformat": 4,
 "nbformat_minor": 5
}
