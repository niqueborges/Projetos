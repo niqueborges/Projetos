{
 "cells": [
  {
   "cell_type": "markdown",
   "id": "0fb7d4b8",
   "metadata": {},
   "source": [
    "# Projeto Aula 1 - Gerar PDF automaticamente"
   ]
  },
  {
   "cell_type": "code",
   "execution_count": 3,
   "id": "e754d088",
   "metadata": {},
   "outputs": [
    {
     "name": "stdout",
     "output_type": "stream",
     "text": [
      "Digite a descrição do projeto: Python\n",
      "Digite a quantidade de horas estimadas: 120\n",
      "Digite o valor da hora trabalhada: 120\n",
      "Digite o prazo: 200\n"
     ]
    }
   ],
   "source": [
    "projeto = input(\"Digite a descrição do projeto: \")\n",
    "horas_estimadas = input(\"Digite a quantidade de horas estimadas: \")\n",
    "valor_hora = input(\"Digite o valor da hora trabalhada: \")\n",
    "prazo = input(\"Digite o prazo: \")"
   ]
  },
  {
   "cell_type": "code",
   "execution_count": 4,
   "id": "094ec984",
   "metadata": {},
   "outputs": [
    {
     "name": "stdout",
     "output_type": "stream",
     "text": [
      "Orçamento gerado com sucesso!\n"
     ]
    }
   ],
   "source": [
    "from fpdf import FPDF\n",
    "\n",
    "valor_total_estimado = int(horas_estimadas) * int(valor_hora)\n",
    "\n",
    "pdf = FPDF()\n",
    "pdf.add_page()\n",
    "pdf.set_font(\"Helvetica\")\n",
    "\n",
    "pdf.image(\"template.png\", x=0, y=0)\n",
    "\n",
    "pdf.text(115, 145, projeto)\n",
    "pdf.text(115, 161, horas_estimadas)\n",
    "pdf.text(115, 176, valor_hora)\n",
    "pdf.text(115, 191, prazo)\n",
    "pdf.text(115, 206, str(valor_total_estimado))\n",
    "\n",
    "pdf.output(\"pdf projeto.pdf\")\n",
    "print(\"Orçamento gerado com sucesso!\")\n",
    "\n",
    "\n",
    "\n"
   ]
  },
  {
   "cell_type": "code",
   "execution_count": null,
   "id": "c88c1343",
   "metadata": {},
   "outputs": [],
   "source": []
  },
  {
   "cell_type": "code",
   "execution_count": null,
   "id": "d8acd7a4",
   "metadata": {},
   "outputs": [],
   "source": []
  }
 ],
 "metadata": {
  "kernelspec": {
   "display_name": "Python 3 (ipykernel)",
   "language": "python",
   "name": "python3"
  },
  "language_info": {
   "codemirror_mode": {
    "name": "ipython",
    "version": 3
   },
   "file_extension": ".py",
   "mimetype": "text/x-python",
   "name": "python",
   "nbconvert_exporter": "python",
   "pygments_lexer": "ipython3",
   "version": "3.9.13"
  }
 },
 "nbformat": 4,
 "nbformat_minor": 5
}
