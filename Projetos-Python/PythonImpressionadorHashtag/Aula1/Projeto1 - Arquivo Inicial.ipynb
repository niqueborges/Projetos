{
 "cells": [
  {
   "cell_type": "markdown",
   "id": "113011b3",
   "metadata": {},
   "source": [
    "# Automação de Sistemas e Processos Python"
   ]
  },
  {
   "cell_type": "code",
   "execution_count": null,
   "id": "954fe483",
   "metadata": {},
   "outputs": [],
   "source": []
  }
 ],
 "metadata": {
  "kernelspec": {
   "display_name": "Python 3 (ipykernel)",
   "language": "python",
   "name": "python3"
  },
  "language_info": {
   "codemirror_mode": {
    "name": "ipython",
    "version": 3
   },
   "file_extension": ".py",
   "mimetype": "text/x-python",
   "name": "python",
   "nbconvert_exporter": "python",
   "pygments_lexer": "ipython3",
   "version": "3.9.13"
  }
 },
 "nbformat": 4,
 "nbformat_minor": 5
}
